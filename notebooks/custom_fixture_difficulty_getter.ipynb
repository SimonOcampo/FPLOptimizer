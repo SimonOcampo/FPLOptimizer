{
 "cells": [
  {
   "cell_type": "code",
   "execution_count": 1,
   "id": "0e71bb47-8f8e-40e7-be09-09af54e1bfe3",
   "metadata": {},
   "outputs": [],
   "source": [
    "import json\n",
    "import pandas as pd\n",
    "\n",
    "# Load fixtures\n",
    "with open(\"../data/raw/fixtures.json\") as f:\n",
    "    fixtures = json.load(f)\n",
    "fixtures_df = pd.DataFrame(fixtures)\n",
    "\n",
    "# Load bootsrap-static.json to get team strengths\n",
    "with open(\"../data/raw/bootstrap-static.json\") as f:\n",
    "    data = json.load(f)\n",
    "teams_df = pd.DataFrame(data[\"teams\"])"
   ]
  },
  {
   "cell_type": "code",
   "execution_count": 2,
   "id": "ba733e94-b640-4029-8afd-c46b852b71ca",
   "metadata": {},
   "outputs": [],
   "source": [
    "# Map team ID to name\n",
    "team_id_to_name = dict(zip(teams_df[\"id\"], teams_df[\"name\"]))\n",
    "\n",
    "# Strength dictionaries\n",
    "att_home = dict(zip(teams_df[\"id\"], teams_df[\"strength_attack_home\"]))\n",
    "att_away = dict(zip(teams_df[\"id\"], teams_df[\"strength_attack_away\"]))\n",
    "def_home = dict(zip(teams_df[\"id\"], teams_df[\"strength_defence_home\"]))\n",
    "def_away = dict(zip(teams_df[\"id\"], teams_df[\"strength_defence_away\"]))"
   ]
  },
  {
   "cell_type": "code",
   "execution_count": 3,
   "id": "e28a2247-544b-4eb1-8d28-45f904f92009",
   "metadata": {},
   "outputs": [],
   "source": [
    "rows = []\n",
    "\n",
    "for _, row in fixtures_df.iterrows():\n",
    "    gameweek = row[\"event\"]\n",
    "    home_id = row[\"team_h\"]\n",
    "    away_id = row[\"team_a\"]\n",
    "\n",
    "    # Home team fixture\n",
    "    rows.append({\n",
    "        \"gameweek\": gameweek,\n",
    "        \"team\": team_id_to_name[home_id],\n",
    "        \"opponent\": team_id_to_name[away_id],\n",
    "        \"is_home\": True,\n",
    "    })\n",
    "\n",
    "    # Away team fixture\n",
    "    rows.append({\n",
    "        \"gameweek\": gameweek,\n",
    "        \"team\": team_id_to_name[away_id],\n",
    "        \"opponent\": team_id_to_name[home_id],\n",
    "        \"is_home\": False,\n",
    "    })\n",
    "\n",
    "# Convert to DataFrame\n",
    "fixture_difficulty_df = pd.DataFrame(rows)\n",
    "fixture_difficulty_df.sort_values(by=[\"gameweek\", \"team\"], inplace=True)"
   ]
  },
  {
   "cell_type": "code",
   "execution_count": 4,
   "id": "0b7a621d-5164-4d52-a048-02060dd70794",
   "metadata": {},
   "outputs": [],
   "source": [
    "fixture_difficulty_df.to_csv(\"../data/processed/fixture_difficulty.csv\", index=False)"
   ]
  },
  {
   "cell_type": "code",
   "execution_count": 6,
   "id": "fd8afc55-6151-4cd8-bb29-3965ba67ff8f",
   "metadata": {},
   "outputs": [
    {
     "data": {
      "text/plain": [
       "(   gameweek         team        opponent  is_home\n",
       " 0         1      Arsenal          Wolves     True\n",
       " 1         1  Aston Villa        West Ham    False\n",
       " 2         1  Bournemouth   Nott'm Forest    False\n",
       " 3         1    Brentford  Crystal Palace     True\n",
       " 4         1     Brighton         Everton    False,\n",
       "           team  att_form_home  def_form_home  att_form_away  def_form_away  \\\n",
       " 0      Arsenal           1.00           7.33           0.67           7.33   \n",
       " 1  Aston Villa           0.00           0.00           0.00           0.00   \n",
       " 2  Bournemouth           0.33          14.00           1.33          13.00   \n",
       " 3    Brentford           0.33           7.00           1.00          11.00   \n",
       " 4     Brighton           1.33          16.33           2.00          13.33   \n",
       " \n",
       "    att_form_home_norm  att_form_away_norm  def_form_home_norm  \\\n",
       " 0               0.500            0.250936            0.792528   \n",
       " 1               0.000            0.000000            1.000000   \n",
       " 2               0.165            0.498127            0.603736   \n",
       " 3               0.165            0.374532            0.801868   \n",
       " 4               0.665            0.749064            0.537787   \n",
       " \n",
       "    def_form_away_norm  \n",
       " 0            0.741264  \n",
       " 1            1.000000  \n",
       " 2            0.541122  \n",
       " 3            0.611719  \n",
       " 4            0.529474  )"
      ]
     },
     "execution_count": 6,
     "metadata": {},
     "output_type": "execute_result"
    }
   ],
   "source": [
    "import pandas as pd\n",
    "\n",
    "# Load the uploaded files\n",
    "fixture_df = pd.read_csv(\"../data/processed/fixture_difficulty.csv\")\n",
    "team_form_df = pd.read_csv(\"../data/processed/team_form_dynamic.csv\")\n",
    "\n",
    "# Display the first few rows of each to confirm structure\n",
    "fixture_df.head(), team_form_df.head()"
   ]
  },
  {
   "cell_type": "code",
   "execution_count": 8,
   "id": "4f78c4c9-a9c0-4534-9da6-9614b8031cc1",
   "metadata": {},
   "outputs": [
    {
     "name": "stdout",
     "output_type": "stream",
     "text": [
      "   gameweek         team        opponent  is_home  xG_score  xCS_score\n",
      "0         1      Arsenal          Wolves     True  0.497670   0.676266\n",
      "1         1  Aston Villa        West Ham    False  0.000000   1.000000\n",
      "2         1  Bournemouth   Nott'm Forest    False  0.325256   0.524673\n",
      "3         1    Brentford  Crystal Palace     True  0.230733   0.831683\n",
      "4         1     Brighton         Everton    False  0.607944   0.451684\n"
     ]
    }
   ],
   "source": [
    "# Step 1: Prepare team form for merging\n",
    "form_main = team_form_df.rename(columns=lambda col: f\"team_{col}\" if col != \"team\" else col)\n",
    "form_opp = team_form_df.rename(columns=lambda col: f\"opp_{col}\" if col != \"team\" else \"opponent\")\n",
    "\n",
    "# Step 2: Merge into fixture table\n",
    "merged_df = fixture_df.merge(form_main, on=\"team\", how=\"left\")\n",
    "merged_df = merged_df.merge(form_opp, on=\"opponent\", how=\"left\")\n",
    "\n",
    "# Step 3: Compute xG_score and xCS_score\n",
    "def compute_xG(row):\n",
    "    if row[\"is_home\"]:\n",
    "        return 0.6 * row[\"team_att_form_home_norm\"] + 0.4 * (1 - row[\"opp_def_form_away_norm\"])\n",
    "    else:\n",
    "        return 0.6 * row[\"team_att_form_away_norm\"] + 0.4 * (1 - row[\"opp_def_form_home_norm\"])\n",
    "\n",
    "def compute_xCS(row):\n",
    "    if row[\"is_home\"]:\n",
    "        return 0.6 * row[\"team_def_form_home_norm\"] + 0.4 * (1 - row[\"opp_att_form_away_norm\"])\n",
    "    else:\n",
    "        return 0.6 * row[\"team_def_form_away_norm\"] + 0.4 * (1 - row[\"opp_att_form_home_norm\"])\n",
    "\n",
    "merged_df[\"xG_score\"] = merged_df.apply(compute_xG, axis=1)\n",
    "merged_df[\"xCS_score\"] = merged_df.apply(compute_xCS, axis=1)\n",
    "\n",
    "# Select relevant columns for output\n",
    "final_fixture_scores = merged_df[[\n",
    "    \"gameweek\", \"team\", \"opponent\", \"is_home\", \"xG_score\", \"xCS_score\"\n",
    "]].sort_values(by=[\"gameweek\", \"team\"])\n",
    "\n",
    "print(final_fixture_scores.head())"
   ]
  },
  {
   "cell_type": "code",
   "execution_count": null,
   "id": "86563adc-7e20-41ea-9b74-10e700182331",
   "metadata": {},
   "outputs": [],
   "source": []
  }
 ],
 "metadata": {
  "kernelspec": {
   "display_name": "Python 3 (ipykernel)",
   "language": "python",
   "name": "python3"
  },
  "language_info": {
   "codemirror_mode": {
    "name": "ipython",
    "version": 3
   },
   "file_extension": ".py",
   "mimetype": "text/x-python",
   "name": "python",
   "nbconvert_exporter": "python",
   "pygments_lexer": "ipython3",
   "version": "3.13.2"
  }
 },
 "nbformat": 4,
 "nbformat_minor": 5
}
